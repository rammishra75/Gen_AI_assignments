{
 "cells": [
  {
   "cell_type": "markdown",
   "id": "30e9c55f",
   "metadata": {},
   "source": [
    "# Hindi Devanagari Characters"
   ]
  },
  {
   "cell_type": "code",
   "execution_count": 10,
   "id": "cf39fe6b",
   "metadata": {},
   "outputs": [],
   "source": [
    "\n",
    "\n",
    "import os\n",
    "import numpy as np\n",
    "import matplotlib.pyplot as plt\n",
    "import tensorflow as tf\n",
    "from tensorflow.keras.models import Sequential\n",
    "from tensorflow.keras.layers import Conv2D, MaxPooling2D, Flatten, Dense, Dropout\n",
    "from tensorflow.keras.preprocessing.image import ImageDataGenerator\n",
    "from sklearn.metrics import classification_report, confusion_matrix\n"
   ]
  },
  {
   "cell_type": "code",
   "execution_count": null,
   "id": "14322e28",
   "metadata": {},
   "outputs": [],
   "source": [
    "train_path = \"/Users/rammishra/Downloads/DevanagariHindiMNIST/Hindi/Train\"\n",
    "test_path = \"/Users/rammishra/Downloads/DevanagariHindiMNIST/Hindi/Test\""
   ]
  },
  {
   "cell_type": "code",
   "execution_count": 12,
   "id": "8c3a0478",
   "metadata": {},
   "outputs": [
    {
     "name": "stdout",
     "output_type": "stream",
     "text": [
      "Found 78200 images belonging to 46 classes.\n",
      "Found 13800 images belonging to 46 classes.\n"
     ]
    }
   ],
   "source": [
    "train_datagen = ImageDataGenerator(rescale=1./255)\n",
    "test_datagen = ImageDataGenerator(rescale=1./255)\n",
    "\n",
    "train_generator = train_datagen.flow_from_directory(\n",
    "    train_path,\n",
    "    target_size=(32, 32),\n",
    "    color_mode='grayscale',\n",
    "    class_mode='categorical'\n",
    ")\n",
    "\n",
    "test_generator = test_datagen.flow_from_directory(\n",
    "    test_path,\n",
    "    target_size=(32, 32),\n",
    "    color_mode='grayscale',\n",
    "    class_mode='categorical'\n",
    ")"
   ]
  },
  {
   "cell_type": "code",
   "execution_count": 13,
   "id": "c95487be",
   "metadata": {},
   "outputs": [],
   "source": [
    "model = Sequential([\n",
    "    Conv2D(32, (3,3), activation='relu', input_shape=(32,32,1)),\n",
    "    MaxPooling2D(2,2),\n",
    "    Conv2D(64, (3,3), activation='relu'),\n",
    "    MaxPooling2D(2,2),\n",
    "    Flatten(),\n",
    "    Dense(128, activation='relu'),\n",
    "    Dropout(0.5),\n",
    "    Dense(46, activation='softmax')\n",
    "])"
   ]
  },
  {
   "cell_type": "code",
   "execution_count": 14,
   "id": "d959ed09",
   "metadata": {},
   "outputs": [
    {
     "name": "stdout",
     "output_type": "stream",
     "text": [
      "Model: \"sequential_2\"\n",
      "_________________________________________________________________\n",
      " Layer (type)                Output Shape              Param #   \n",
      "=================================================================\n",
      " conv2d_4 (Conv2D)           (None, 30, 30, 32)        320       \n",
      "                                                                 \n",
      " max_pooling2d_4 (MaxPoolin  (None, 15, 15, 32)        0         \n",
      " g2D)                                                            \n",
      "                                                                 \n",
      " conv2d_5 (Conv2D)           (None, 13, 13, 64)        18496     \n",
      "                                                                 \n",
      " max_pooling2d_5 (MaxPoolin  (None, 6, 6, 64)          0         \n",
      " g2D)                                                            \n",
      "                                                                 \n",
      " flatten_2 (Flatten)         (None, 2304)              0         \n",
      "                                                                 \n",
      " dense_4 (Dense)             (None, 128)               295040    \n",
      "                                                                 \n",
      " dropout_2 (Dropout)         (None, 128)               0         \n",
      "                                                                 \n",
      " dense_5 (Dense)             (None, 46)                5934      \n",
      "                                                                 \n",
      "=================================================================\n",
      "Total params: 319790 (1.22 MB)\n",
      "Trainable params: 319790 (1.22 MB)\n",
      "Non-trainable params: 0 (0.00 Byte)\n",
      "_________________________________________________________________\n"
     ]
    }
   ],
   "source": [
    "model.compile(optimizer='adam', loss='categorical_crossentropy', metrics=['accuracy'])\n",
    "model.summary()"
   ]
  },
  {
   "cell_type": "code",
   "execution_count": 15,
   "id": "858f4f53",
   "metadata": {},
   "outputs": [
    {
     "name": "stdout",
     "output_type": "stream",
     "text": [
      "Epoch 1/10\n",
      "2444/2444 [==============================] - 25s 10ms/step - loss: 2.2957 - accuracy: 0.6020 - val_loss: 0.4620 - val_accuracy: 0.8843\n",
      "Epoch 2/10\n",
      "2444/2444 [==============================] - 24s 10ms/step - loss: 1.2114 - accuracy: 0.7743 - val_loss: 0.4376 - val_accuracy: 0.9151\n",
      "Epoch 3/10\n",
      "2444/2444 [==============================] - 26s 11ms/step - loss: 1.3496 - accuracy: 0.8030 - val_loss: 0.5078 - val_accuracy: 0.9227\n",
      "Epoch 4/10\n",
      "2444/2444 [==============================] - 25s 10ms/step - loss: 1.6142 - accuracy: 0.8230 - val_loss: 0.5381 - val_accuracy: 0.9330\n",
      "Epoch 5/10\n",
      "2444/2444 [==============================] - 25s 10ms/step - loss: 2.1094 - accuracy: 0.8349 - val_loss: 0.7677 - val_accuracy: 0.9347\n",
      "Epoch 6/10\n",
      "2444/2444 [==============================] - 25s 10ms/step - loss: 2.5664 - accuracy: 0.8502 - val_loss: 0.8683 - val_accuracy: 0.9446\n",
      "Epoch 7/10\n",
      "2444/2444 [==============================] - 25s 10ms/step - loss: 3.1198 - accuracy: 0.8593 - val_loss: 1.1779 - val_accuracy: 0.9465\n",
      "Epoch 8/10\n",
      "2444/2444 [==============================] - 26s 11ms/step - loss: 3.9778 - accuracy: 0.8646 - val_loss: 1.5665 - val_accuracy: 0.9464\n",
      "Epoch 9/10\n",
      "2444/2444 [==============================] - 25s 10ms/step - loss: 4.8917 - accuracy: 0.8708 - val_loss: 1.8846 - val_accuracy: 0.9503\n",
      "Epoch 10/10\n",
      "2444/2444 [==============================] - 25s 10ms/step - loss: 5.7840 - accuracy: 0.8778 - val_loss: 2.2825 - val_accuracy: 0.9488\n"
     ]
    }
   ],
   "source": [
    "history = model.fit(\n",
    "    train_generator,\n",
    "    epochs=10,\n",
    "    validation_data=test_generator\n",
    ")"
   ]
  },
  {
   "cell_type": "code",
   "execution_count": 16,
   "id": "a26025f6",
   "metadata": {},
   "outputs": [
    {
     "name": "stdout",
     "output_type": "stream",
     "text": [
      "432/432 [==============================] - 3s 6ms/step - loss: 2.2825 - accuracy: 0.9488\n",
      "Test Accuracy: 94.88%\n"
     ]
    }
   ],
   "source": [
    "loss, accuracy = model.evaluate(test_generator)\n",
    "print(f\"Test Accuracy: {accuracy * 100:.2f}%\")"
   ]
  },
  {
   "cell_type": "code",
   "execution_count": 17,
   "id": "bfc87d13",
   "metadata": {},
   "outputs": [
    {
     "name": "stdout",
     "output_type": "stream",
     "text": [
      "1/1 [==============================] - 0s 33ms/step\n"
     ]
    },
    {
     "data": {
      "image/png": "[encoded data removed]",
      "text/plain": [
       "<Figure size 640x480 with 1 Axes>"
      ]
     },
     "metadata": {},
     "output_type": "display_data"
    },
    {
     "data": {
      "image/png": "[encoded data removed]",
      "text/plain": [
       "<Figure size 640x480 with 1 Axes>"
      ]
     },
     "metadata": {},
     "output_type": "display_data"
    },
    {
     "data": {
      "image/png": "[encoded data removed]",
      "text/plain": [
       "<Figure size 640x480 with 1 Axes>"
      ]
     },
     "metadata": {},
     "output_type": "display_data"
    },
    {
     "data": {
      "image/png": "[encoded data removed]",
      "text/plain": [
       "<Figure size 640x480 with 1 Axes>"
      ]
     },
     "metadata": {},
     "output_type": "display_data"
    },
    {
     "data": {
      "image/png": "[encoded data removed]",
      "text/plain": [
       "<Figure size 640x480 with 1 Axes>"
      ]
     },
     "metadata": {},
     "output_type": "display_data"
    }
   ],
   "source": [
    "sample_images, sample_labels = next(test_generator)\n",
    "predictions = model.predict(sample_images)\n",
    "\n",
    "for i in range(5):\n",
    "    plt.imshow(sample_images[i].reshape(32, 32), cmap='gray')\n",
    "    plt.title(f\"Predicted: {np.argmax(predictions[i])}, Actual: {np.argmax(sample_labels[i])}\")\n",
    "    plt.axis('off')\n",
    "    plt.show()"
   ]
  },
  {
   "cell_type": "code",
   "execution_count": null,
   "id": "c6f67ea2",
   "metadata": {},
   "outputs": [],
   "source": [
    "model.save(\"hindi_character_classifier.h5\")"
   ]
  }
 ],
 "metadata": {
  "kernelspec": {
   "display_name": "Python (venv)",
   "language": "python",
   "name": "venv"
  },
  "language_info": {
   "codemirror_mode": {
    "name": "ipython",
    "version": 3
   },
   "file_extension": ".py",
   "mimetype": "text/x-python",
   "name": "python",
   "nbconvert_exporter": "python",
   "pygments_lexer": "ipython3",
   "version": "3.10.11"
  }
 },
 "nbformat": 4,
 "nbformat_minor": 5
}
